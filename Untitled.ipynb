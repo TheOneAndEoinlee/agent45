{
 "cells": [
  {
   "cell_type": "code",
   "execution_count": 2,
   "id": "46195597",
   "metadata": {},
   "outputs": [],
   "source": [
    "import openai"
   ]
  },
  {
   "cell_type": "code",
   "execution_count": 18,
   "id": "cafed262",
   "metadata": {},
   "outputs": [
    {
     "name": "stdout",
     "output_type": "stream",
     "text": [
      "Help on method create in module openai.api_resources.chat_completion:\n",
      "\n",
      "create(*args, **kwargs) method of builtins.type instance\n",
      "    Creates a new chat completion for the provided messages and parameters.\n",
      "    \n",
      "    See https://platform.openai.com/docs/api-reference/chat-completions/create\n",
      "    for a list of valid parameters.\n",
      "\n"
     ]
    }
   ],
   "source": [
    "help(openai.ChatCompletion.create)"
   ]
  }
 ],
 "metadata": {
  "kernelspec": {
   "display_name": "Python 3 (ipykernel)",
   "language": "python",
   "name": "python3"
  },
  "language_info": {
   "codemirror_mode": {
    "name": "ipython",
    "version": 3
   },
   "file_extension": ".py",
   "mimetype": "text/x-python",
   "name": "python",
   "nbconvert_exporter": "python",
   "pygments_lexer": "ipython3",
   "version": "3.10.6"
  }
 },
 "nbformat": 4,
 "nbformat_minor": 5
}
